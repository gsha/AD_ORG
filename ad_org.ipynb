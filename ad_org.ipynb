{
 "cells": [
  {
   "cell_type": "markdown",
   "metadata": {},
   "source": [
    "# Probem Statement"
   ]
  },
  {
   "cell_type": "markdown",
   "metadata": {},
   "source": [
    "### For any video YouTube provides some data metrices such as Views, Likes, Comments, Shares, etc available publically. Based on these data metrices one has to predict the ad views i.e. views earned through advertizements. "
   ]
  },
  {
   "cell_type": "markdown",
   "metadata": {},
   "source": [
    "# 1. Loading the training data from ad_train.csv"
   ]
  },
  {
   "cell_type": "code",
   "execution_count": 1,
   "metadata": {
    "collapsed": true
   },
   "outputs": [],
   "source": [
    "#importing required libraries.\n",
    "import pandas as pd\n",
    "import numpy as np\n",
    "import matplotlib.pyplot as plt\n",
    "import seaborn as sns\n",
    "from IPython.display import display\n",
    "from matplotlib.ticker import ScalarFormatter, FormatStrFormatter"
   ]
  },
  {
   "cell_type": "code",
   "execution_count": 2,
   "metadata": {
    "collapsed": true
   },
   "outputs": [],
   "source": [
    "#loading the data training and testing data into pandas dataframes.\n",
    "data_train = pd.read_csv(\"data/mn/ad_org_train.csv\")"
   ]
  },
  {
   "cell_type": "markdown",
   "metadata": {},
   "source": [
    "# 2. Data cleaning and Data visualizaton"
   ]
  },
  {
   "cell_type": "code",
   "execution_count": 3,
   "metadata": {},
   "outputs": [
    {
     "data": {
      "text/html": [
       "<div>\n",
       "<style>\n",
       "    .dataframe thead tr:only-child th {\n",
       "        text-align: right;\n",
       "    }\n",
       "\n",
       "    .dataframe thead th {\n",
       "        text-align: left;\n",
       "    }\n",
       "\n",
       "    .dataframe tbody tr th {\n",
       "        vertical-align: top;\n",
       "    }\n",
       "</style>\n",
       "<table border=\"1\" class=\"dataframe\">\n",
       "  <thead>\n",
       "    <tr style=\"text-align: right;\">\n",
       "      <th></th>\n",
       "      <th>vidid</th>\n",
       "      <th>adview</th>\n",
       "      <th>views</th>\n",
       "      <th>likes</th>\n",
       "      <th>dislikes</th>\n",
       "      <th>comment</th>\n",
       "      <th>published</th>\n",
       "      <th>duration</th>\n",
       "      <th>category</th>\n",
       "    </tr>\n",
       "  </thead>\n",
       "  <tbody>\n",
       "    <tr>\n",
       "      <th>0</th>\n",
       "      <td>VID_18655</td>\n",
       "      <td>40</td>\n",
       "      <td>1031602</td>\n",
       "      <td>8523</td>\n",
       "      <td>363</td>\n",
       "      <td>1095</td>\n",
       "      <td>2016-09-14</td>\n",
       "      <td>PT7M37S</td>\n",
       "      <td>F</td>\n",
       "    </tr>\n",
       "    <tr>\n",
       "      <th>1</th>\n",
       "      <td>VID_14135</td>\n",
       "      <td>2</td>\n",
       "      <td>1707</td>\n",
       "      <td>56</td>\n",
       "      <td>2</td>\n",
       "      <td>6</td>\n",
       "      <td>2016-10-01</td>\n",
       "      <td>PT9M30S</td>\n",
       "      <td>D</td>\n",
       "    </tr>\n",
       "    <tr>\n",
       "      <th>2</th>\n",
       "      <td>VID_2187</td>\n",
       "      <td>1</td>\n",
       "      <td>2023</td>\n",
       "      <td>25</td>\n",
       "      <td>0</td>\n",
       "      <td>2</td>\n",
       "      <td>2016-07-02</td>\n",
       "      <td>PT2M16S</td>\n",
       "      <td>C</td>\n",
       "    </tr>\n",
       "    <tr>\n",
       "      <th>3</th>\n",
       "      <td>VID_23096</td>\n",
       "      <td>6</td>\n",
       "      <td>620860</td>\n",
       "      <td>777</td>\n",
       "      <td>161</td>\n",
       "      <td>153</td>\n",
       "      <td>2016-07-27</td>\n",
       "      <td>PT4M22S</td>\n",
       "      <td>H</td>\n",
       "    </tr>\n",
       "    <tr>\n",
       "      <th>4</th>\n",
       "      <td>VID_10175</td>\n",
       "      <td>1</td>\n",
       "      <td>666</td>\n",
       "      <td>1</td>\n",
       "      <td>0</td>\n",
       "      <td>0</td>\n",
       "      <td>2016-06-29</td>\n",
       "      <td>PT31S</td>\n",
       "      <td>D</td>\n",
       "    </tr>\n",
       "  </tbody>\n",
       "</table>\n",
       "</div>"
      ],
      "text/plain": [
       "       vidid  adview    views likes dislikes comment   published duration  \\\n",
       "0  VID_18655      40  1031602  8523      363    1095  2016-09-14  PT7M37S   \n",
       "1  VID_14135       2     1707    56        2       6  2016-10-01  PT9M30S   \n",
       "2   VID_2187       1     2023    25        0       2  2016-07-02  PT2M16S   \n",
       "3  VID_23096       6   620860   777      161     153  2016-07-27  PT4M22S   \n",
       "4  VID_10175       1      666     1        0       0  2016-06-29    PT31S   \n",
       "\n",
       "  category  \n",
       "0        F  \n",
       "1        D  \n",
       "2        C  \n",
       "3        H  \n",
       "4        D  "
      ]
     },
     "metadata": {},
     "output_type": "display_data"
    }
   ],
   "source": [
    "display(data_train.head(n=5))"
   ]
  },
  {
   "cell_type": "code",
   "execution_count": 4,
   "metadata": {
    "scrolled": true
   },
   "outputs": [
    {
     "name": "stdout",
     "output_type": "stream",
     "text": [
      "Lenght of data_train :14999\n"
     ]
    }
   ],
   "source": [
    "print \"Lenght of data_train :%d\"%len(data_train)"
   ]
  },
  {
   "cell_type": "markdown",
   "metadata": {},
   "source": [
    "#### There are some entries in various columns(apart from category column) having value 'F', we have to remove those rows."
   ]
  },
  {
   "cell_type": "code",
   "execution_count": 5,
   "metadata": {
    "collapsed": true
   },
   "outputs": [],
   "source": [
    "#removing the columns int data_train which contains 'F' in views, likes, dislikes,\n",
    "#comment, published, duration, category and adview\n",
    "def remove_F(data):\n",
    "    data = data[data.likes!='F']\n",
    "    data = data[data.views!='F']\n",
    "    data = data[data.dislikes!='F']\n",
    "    data = data[data.comment!='F']\n",
    "    data = data[data.published!='F']\n",
    "    data = data[data.duration!='F']\n",
    "    #reindexing the dataframe\n",
    "    data = data.reset_index(drop=True)\n",
    "    return data\n",
    "\n"
   ]
  },
  {
   "cell_type": "code",
   "execution_count": 6,
   "metadata": {},
   "outputs": [
    {
     "name": "stdout",
     "output_type": "stream",
     "text": [
      "New length of dataframe: 14637\n"
     ]
    }
   ],
   "source": [
    "data_train = remove_F(data_train)\n",
    "\n",
    "print \"New length of dataframe: %d\"%(len(data_train))"
   ]
  },
  {
   "cell_type": "markdown",
   "metadata": {},
   "source": [
    "#### Likes, dislikes, comment and views are of str type, we have to convert them into int64 so that we can pass them to a model for analysis."
   ]
  },
  {
   "cell_type": "code",
   "execution_count": 7,
   "metadata": {
    "collapsed": true
   },
   "outputs": [],
   "source": [
    "#function for converting likes, dislikes and comments to int64\n",
    "def convert_to_int(data):\n",
    "    index_to_int = ['likes', 'dislikes', 'comment', 'views']\n",
    "    for index in index_to_int:\n",
    "        data[index] =  data[index].apply(np.int64)\n",
    "    return data"
   ]
  },
  {
   "cell_type": "code",
   "execution_count": 8,
   "metadata": {
    "collapsed": true
   },
   "outputs": [],
   "source": [
    "#converting likes, dislikes and comments to int64 data type\n",
    "data_train = convert_to_int(data_train)"
   ]
  },
  {
   "cell_type": "markdown",
   "metadata": {},
   "source": [
    "\n",
    "#### Duration of the video is in ISO 8601 format, we have to convert it into some suitable format."
   ]
  },
  {
   "cell_type": "code",
   "execution_count": 9,
   "metadata": {
    "collapsed": true
   },
   "outputs": [],
   "source": [
    "#function to convert duration from ISO 8601 format to seconds.\n",
    "import re\n",
    "\n",
    "def YTDurationToSeconds(duration):\n",
    "  match = re.match('PT(\\d+H)?(\\d+M)?(\\d+S)?', duration).groups()\n",
    "  hours = _js_parseInt(match[0]) if match[0] else 0\n",
    "  minutes = _js_parseInt(match[1]) if match[1] else 0\n",
    "  seconds = _js_parseInt(match[2]) if match[2] else 0\n",
    "  return hours * 3600 + minutes * 60 + seconds\n",
    "\n",
    "\n",
    "def _js_parseInt(string):\n",
    "    return int(''.join([x for x in string if x.isdigit()]))"
   ]
  },
  {
   "cell_type": "code",
   "execution_count": 10,
   "metadata": {
    "collapsed": true
   },
   "outputs": [],
   "source": [
    "durations_in_sec = [YTDurationToSeconds(duration_in_sec) for duration_in_sec in data_train[\"duration\"]]\n",
    "data_train.duration = durations_in_sec"
   ]
  },
  {
   "cell_type": "markdown",
   "metadata": {},
   "source": [
    "#### Published date is in %Y-%M-%D format, we convert it number of days representing how many days ago the video was published"
   ]
  },
  {
   "cell_type": "code",
   "execution_count": 11,
   "metadata": {
    "collapsed": true
   },
   "outputs": [],
   "source": [
    "#function to convert the date from %Y-%M-%D format to the number of days the video was published.\n",
    "from datetime import datetime\n",
    "date_format = \"%Y-%m-%d\"\n",
    "\n",
    "def published_days_ago(date, date_format):\n",
    "    date =  datetime.strptime(date, date_format)\n",
    "    date_now = datetime.now()\n",
    "    days_ago = (date_now - date).days\n",
    "    return days_ago"
   ]
  },
  {
   "cell_type": "code",
   "execution_count": 12,
   "metadata": {
    "collapsed": true
   },
   "outputs": [],
   "source": [
    "days_ago_list = [published_days_ago(date_of_published, date_format) for date_of_published in data_train[\"published\"]]\n",
    "data_train.published = days_ago_list"
   ]
  },
  {
   "cell_type": "markdown",
   "metadata": {},
   "source": [
    "## Visualization"
   ]
  },
  {
   "cell_type": "markdown",
   "metadata": {},
   "source": [
    "#### Max, min, mean, median, std of adview."
   ]
  },
  {
   "cell_type": "code",
   "execution_count": 74,
   "metadata": {
    "scrolled": true
   },
   "outputs": [
    {
     "name": "stdout",
     "output_type": "stream",
     "text": [
      "Max ad views: 5429665.000000\n",
      "Min ad views: 1.000000\n",
      "Mean ad view 2066.029719\n",
      "Median ad view 2.000000\n",
      "Standrad deviation of ad view 52825.251079\n"
     ]
    }
   ],
   "source": [
    "ad_view = data_train['adview']\n",
    "max_ad_view = np.max(ad_view)\n",
    "min_ad_view = np.min(ad_view)\n",
    "mean_ad_view = np.mean(ad_view)\n",
    "median_ad_view = np.median(ad_view)\n",
    "std_ad_view = np.std(ad_view)\n",
    "\n",
    "print \"Max ad views: %f\"%(max_ad_view)\n",
    "print \"Min ad views: %f\"%(min_ad_view)\n",
    "print \"Mean ad view %f\"%(mean_ad_view)\n",
    "print \"Median ad view %f\"%(median_ad_view)\n",
    "print \"Standrad deviation of ad view %f\"%(std_ad_view)"
   ]
  },
  {
   "cell_type": "markdown",
   "metadata": {},
   "source": [
    "### visualizing the relationship between various features"
   ]
  },
  {
   "cell_type": "code",
   "execution_count": 75,
   "metadata": {},
   "outputs": [
    {
     "data": {
      "image/png": "[encoded data removed]",
      "text/plain": [
       "<matplotlib.figure.Figure at 0x7fce8755f690>"
      ]
     },
     "metadata": {},
     "output_type": "display_data"
    }
   ],
   "source": [
    "adview = data_train['adview']\n",
    "views = data_train['views']\n",
    "likes = data_train['likes']\n",
    "dislikes = data_train['dislikes']\n",
    "comment = data_train['comment']\n",
    "published = data_train['published']\n",
    "duration = data_train['duration']\n",
    "\n",
    "\n",
    "np.random.seed(19680801)\n",
    "\n",
    "\n",
    "x = np.random.rand(10)\n",
    "y = np.random.rand(10)\n",
    "\n",
    "#plotting a scatter plot between adview and view\n",
    "plt.figure(figsize=(15,15))\n",
    "plt.subplot(321)\n",
    "plt.scatter(adview, views, c='navy')\n",
    "plt.ylabel(\"views\")\n",
    "plt.xlabel(\"adview\")\n",
    "\n",
    "#plotting a scatter plot between adview and likes\n",
    "plt.subplot(322)\n",
    "plt.scatter(adview, likes, c='green')\n",
    "plt.ylabel(\"likes\")\n",
    "plt.xlabel(\"adview\")\n",
    "\n",
    "#plotting a scatter plot between adview and dislikes\n",
    "plt.subplot(323)\n",
    "plt.scatter(adview, dislikes, c='magenta')\n",
    "plt.ylabel(\"dislikes\")\n",
    "plt.xlabel(\"adview\")\n",
    "\n",
    "#plotting a scatter plot between adview and comment\n",
    "plt.subplot(324)\n",
    "plt.scatter(adview, comment, c='orange')\n",
    "plt.ylabel(\"comment\")\n",
    "plt.xlabel(\"adview\")\n",
    "\n",
    "#plotting a scatter plot between adview and published\n",
    "plt.subplot(325)\n",
    "plt.scatter(adview,published, c='teal')\n",
    "plt.ylabel(\"published\")\n",
    "plt.xlabel(\"adview\")\n",
    "\n",
    "#plotting a scatter plot between adview and duration\n",
    "plt.subplot(326)\n",
    "plt.scatter(adview, duration, c='brown')\n",
    "plt.ylabel(\"duration\")\n",
    "plt.xlabel(\"adview\")\n",
    "\n",
    "plt.show()"
   ]
  },
  {
   "cell_type": "markdown",
   "metadata": {},
   "source": [
    "It seems like there are some outliers in the data which can affect the results of our model."
   ]
  },
  {
   "cell_type": "markdown",
   "metadata": {},
   "source": [
    "#### visualizing the adview per category"
   ]
  },
  {
   "cell_type": "code",
   "execution_count": 129,
   "metadata": {},
   "outputs": [
    {
     "data": {
      "image/png": "[encoded data removed]",
      "text/plain": [
       "<matplotlib.figure.Figure at 0x7fce94c15ed0>"
      ]
     },
     "metadata": {},
     "output_type": "display_data"
    }
   ],
   "source": [
    "ad_by_category = data_train[\"adview\"].groupby(data_train['category']).aggregate(sum)\n",
    "x = np.arange(8)\n",
    "fig, ax = plt.subplots()\n",
    "plt.bar(x, ad_by_category)\n",
    "plt.xticks(x, ('A','B','C','D','E','F','G','H'))\n",
    "plt.xlabel(\"Category\")\n",
    "plt.ylabel(\"Total adview\")\n",
    "plt.show()"
   ]
  },
  {
   "cell_type": "markdown",
   "metadata": {},
   "source": [
    "It seems like category is an important feature for determining the number of adviews. We have to find that whether the videos of categories D and G tends to have large **adview** or the simply they have large number of samples in the dataset."
   ]
  },
  {
   "cell_type": "markdown",
   "metadata": {},
   "source": [
    "#### Number of samples per category"
   ]
  },
  {
   "cell_type": "code",
   "execution_count": 77,
   "metadata": {
    "collapsed": true
   },
   "outputs": [],
   "source": [
    "categories = ['A','B','C','D','E','F','G','H']\n",
    "sampels_of_each_cat = [len(data_train[data_train['category']==cat]) for cat in categories]"
   ]
  },
  {
   "cell_type": "code",
   "execution_count": 124,
   "metadata": {},
   "outputs": [
    {
     "data": {
      "image/png": "[encoded data removed]",
      "text/plain": [
       "<matplotlib.figure.Figure at 0x7fce86ec6f50>"
      ]
     },
     "metadata": {},
     "output_type": "display_data"
    }
   ],
   "source": [
    "x = np.arange(8)\n",
    "fig1, ax1 = plt.subplots()\n",
    "plt.bar(np.arange(8), sampels_of_each_cat)\n",
    "plt.xticks(x, ('A','B','C','D','E','F','G','H'))\n",
    "plt.xlabel(\"Category\")\n",
    "plt.ylabel(\"No of samples in category\")\n",
    "plt.show()"
   ]
  },
  {
   "cell_type": "markdown",
   "metadata": {},
   "source": [
    "It is clear that there are large number of samples in 'D' and 'G' categories."
   ]
  },
  {
   "cell_type": "markdown",
   "metadata": {},
   "source": [
    "#### Correlation between various features"
   ]
  },
  {
   "cell_type": "code",
   "execution_count": 80,
   "metadata": {},
   "outputs": [
    {
     "data": {
      "text/html": [
       "<div>\n",
       "<style>\n",
       "    .dataframe thead tr:only-child th {\n",
       "        text-align: right;\n",
       "    }\n",
       "\n",
       "    .dataframe thead th {\n",
       "        text-align: left;\n",
       "    }\n",
       "\n",
       "    .dataframe tbody tr th {\n",
       "        vertical-align: top;\n",
       "    }\n",
       "</style>\n",
       "<table border=\"1\" class=\"dataframe\">\n",
       "  <thead>\n",
       "    <tr style=\"text-align: right;\">\n",
       "      <th></th>\n",
       "      <th>adview</th>\n",
       "      <th>views</th>\n",
       "      <th>likes</th>\n",
       "      <th>dislikes</th>\n",
       "      <th>comment</th>\n",
       "      <th>published</th>\n",
       "      <th>duration</th>\n",
       "    </tr>\n",
       "  </thead>\n",
       "  <tbody>\n",
       "    <tr>\n",
       "      <th>adview</th>\n",
       "      <td>1.000000</td>\n",
       "      <td>0.032807</td>\n",
       "      <td>0.044650</td>\n",
       "      <td>0.036609</td>\n",
       "      <td>0.016104</td>\n",
       "      <td>-0.037334</td>\n",
       "      <td>-0.012710</td>\n",
       "    </tr>\n",
       "    <tr>\n",
       "      <th>views</th>\n",
       "      <td>0.032807</td>\n",
       "      <td>1.000000</td>\n",
       "      <td>0.726716</td>\n",
       "      <td>0.730320</td>\n",
       "      <td>0.410662</td>\n",
       "      <td>-0.018109</td>\n",
       "      <td>0.002509</td>\n",
       "    </tr>\n",
       "    <tr>\n",
       "      <th>likes</th>\n",
       "      <td>0.044650</td>\n",
       "      <td>0.726716</td>\n",
       "      <td>1.000000</td>\n",
       "      <td>0.648876</td>\n",
       "      <td>0.651202</td>\n",
       "      <td>-0.091745</td>\n",
       "      <td>-0.042572</td>\n",
       "    </tr>\n",
       "    <tr>\n",
       "      <th>dislikes</th>\n",
       "      <td>0.036609</td>\n",
       "      <td>0.730320</td>\n",
       "      <td>0.648876</td>\n",
       "      <td>1.000000</td>\n",
       "      <td>0.532548</td>\n",
       "      <td>-0.038694</td>\n",
       "      <td>0.001495</td>\n",
       "    </tr>\n",
       "    <tr>\n",
       "      <th>comment</th>\n",
       "      <td>0.016104</td>\n",
       "      <td>0.410662</td>\n",
       "      <td>0.651202</td>\n",
       "      <td>0.532548</td>\n",
       "      <td>1.000000</td>\n",
       "      <td>-0.102845</td>\n",
       "      <td>-0.037499</td>\n",
       "    </tr>\n",
       "    <tr>\n",
       "      <th>published</th>\n",
       "      <td>-0.037334</td>\n",
       "      <td>-0.018109</td>\n",
       "      <td>-0.091745</td>\n",
       "      <td>-0.038694</td>\n",
       "      <td>-0.102845</td>\n",
       "      <td>1.000000</td>\n",
       "      <td>-0.017675</td>\n",
       "    </tr>\n",
       "    <tr>\n",
       "      <th>duration</th>\n",
       "      <td>-0.012710</td>\n",
       "      <td>0.002509</td>\n",
       "      <td>-0.042572</td>\n",
       "      <td>0.001495</td>\n",
       "      <td>-0.037499</td>\n",
       "      <td>-0.017675</td>\n",
       "      <td>1.000000</td>\n",
       "    </tr>\n",
       "  </tbody>\n",
       "</table>\n",
       "</div>"
      ],
      "text/plain": [
       "             adview     views     likes  dislikes   comment  published  \\\n",
       "adview     1.000000  0.032807  0.044650  0.036609  0.016104  -0.037334   \n",
       "views      0.032807  1.000000  0.726716  0.730320  0.410662  -0.018109   \n",
       "likes      0.044650  0.726716  1.000000  0.648876  0.651202  -0.091745   \n",
       "dislikes   0.036609  0.730320  0.648876  1.000000  0.532548  -0.038694   \n",
       "comment    0.016104  0.410662  0.651202  0.532548  1.000000  -0.102845   \n",
       "published -0.037334 -0.018109 -0.091745 -0.038694 -0.102845   1.000000   \n",
       "duration  -0.012710  0.002509 -0.042572  0.001495 -0.037499  -0.017675   \n",
       "\n",
       "           duration  \n",
       "adview    -0.012710  \n",
       "views      0.002509  \n",
       "likes     -0.042572  \n",
       "dislikes   0.001495  \n",
       "comment   -0.037499  \n",
       "published -0.017675  \n",
       "duration   1.000000  "
      ]
     },
     "execution_count": 80,
     "metadata": {},
     "output_type": "execute_result"
    }
   ],
   "source": [
    "import seaborn as sns\n",
    "corr = data_train.corr()\n",
    "sns.heatmap(corr, \n",
    "            xticklabels=corr.columns.values,\n",
    "            yticklabels=corr.columns.values)\n",
    "corr\n",
    "\n"
   ]
  },
  {
   "cell_type": "markdown",
   "metadata": {},
   "source": [
    "# 3. Model 1 (Benchmark)"
   ]
  },
  {
   "cell_type": "markdown",
   "metadata": {},
   "source": [
    "#### Seperating data into target and features"
   ]
  },
  {
   "cell_type": "code",
   "execution_count": 79,
   "metadata": {
    "collapsed": true
   },
   "outputs": [],
   "source": [
    "#seperate data_train into target and features\n",
    "target = data_train['adview']\n",
    "features_raw = data_train.drop(['adview','vidid'], axis=1)"
   ]
  },
  {
   "cell_type": "code",
   "execution_count": 81,
   "metadata": {
    "collapsed": true
   },
   "outputs": [],
   "source": [
    "#Encoding the fearues_raw.\n",
    "features = pd.get_dummies(features_raw)"
   ]
  },
  {
   "cell_type": "markdown",
   "metadata": {},
   "source": [
    "#### Splitting the data into training and testing subsets"
   ]
  },
  {
   "cell_type": "code",
   "execution_count": 179,
   "metadata": {},
   "outputs": [
    {
     "name": "stdout",
     "output_type": "stream",
     "text": [
      "Training set has 11709 samples.\n",
      "Testing set has 2928 samples.\n"
     ]
    }
   ],
   "source": [
    "from sklearn.model_selection import train_test_split\n",
    "\n",
    "#split the 'features' and 'target' data into trainign and testing set.\n",
    "X_train, X_test, y_train, y_test = train_test_split(features, target, test_size = 0.2,\n",
    "                                                    random_state = 17)\n",
    "# Show the results of the split\n",
    "print \"Training set has %d samples.\"%X_train.shape[0]\n",
    "print \"Testing set has %d samples.\"%X_test.shape[0]"
   ]
  },
  {
   "cell_type": "markdown",
   "metadata": {},
   "source": [
    "#### Using Grid Search to find the best parameters."
   ]
  },
  {
   "cell_type": "code",
   "execution_count": 180,
   "metadata": {
    "collapsed": true
   },
   "outputs": [],
   "source": [
    "from sklearn.ensemble import GradientBoostingRegressor\n",
    "from sklearn.model_selection import GridSearchCV\n",
    "\n",
    "#defining parameter grid for Grid Search Cross-Validation\n",
    "param_grid = {'learning_rate': [0.1, 0.05, 0.02, 0.01],\n",
    "             'max_depth': [4,6],\n",
    "             'min_samples_leaf': [3,5,9,17],\n",
    "             'max_features': [None, 1.0, 0.3, 0.1]}\n",
    "\n",
    "clf = GradientBoostingRegressor(n_estimators=3000)\n",
    "clf_cv_model1 = GridSearchCV(clf, param_grid).fit(X_train, y_train)"
   ]
  },
  {
   "cell_type": "code",
   "execution_count": 181,
   "metadata": {},
   "outputs": [
    {
     "data": {
      "text/plain": [
       "{'learning_rate': 0.02,\n",
       " 'max_depth': 6,\n",
       " 'max_features': 0.1,\n",
       " 'min_samples_leaf': 3}"
      ]
     },
     "execution_count": 181,
     "metadata": {},
     "output_type": "execute_result"
    }
   ],
   "source": [
    "# Printing the parameter setting that gave the best results on the hold out data\n",
    "clf_cv_model1.best_params_"
   ]
  },
  {
   "cell_type": "code",
   "execution_count": 182,
   "metadata": {
    "collapsed": true
   },
   "outputs": [],
   "source": [
    "predictions = clf_cv_model1.predict(X_test)"
   ]
  },
  {
   "cell_type": "code",
   "execution_count": 188,
   "metadata": {},
   "outputs": [
    {
     "data": {
      "image/png": "[encoded data removed]",
      "text/plain": [
       "<matplotlib.figure.Figure at 0x7f8e35f8ee10>"
      ]
     },
     "metadata": {},
     "output_type": "display_data"
    }
   ],
   "source": [
    "plt.scatter(y_test, predictions)\n",
    "plt.xlabel(\"True values\")\n",
    "plt.ylabel(\"Predictions\")\n",
    "plt.show()"
   ]
  },
  {
   "cell_type": "code",
   "execution_count": 189,
   "metadata": {
    "scrolled": false
   },
   "outputs": [
    {
     "name": "stdout",
     "output_type": "stream",
     "text": [
      "-2.68040288996\n"
     ]
    }
   ],
   "source": [
    "from sklearn.metrics import r2_score\n",
    "\n",
    "print r2_score(y_test, predictions)"
   ]
  },
  {
   "cell_type": "markdown",
   "metadata": {},
   "source": [
    "### R2 score of Benchmark model : -2.68040288996"
   ]
  },
  {
   "cell_type": "markdown",
   "metadata": {},
   "source": [
    "\n",
    ".\n",
    "\n",
    "\n",
    ".\n",
    "\n",
    "\n",
    "\n",
    ".\n",
    "\n",
    "# 4. Model 2 ( using 'huber' loss function)"
   ]
  },
  {
   "cell_type": "code",
   "execution_count": 147,
   "metadata": {
    "collapsed": true,
    "scrolled": true
   },
   "outputs": [],
   "source": [
    "target = data_train['adview']\n",
    "features_raw = data_train.drop(['adview','vidid'], axis=1)\n",
    "features = pd.get_dummies(features_raw)"
   ]
  },
  {
   "cell_type": "code",
   "execution_count": 18,
   "metadata": {
    "collapsed": true
   },
   "outputs": [],
   "source": [
    "from sklearn.svm import SVR\n",
    "from sklearn import linear_model\n",
    "from sklearn.ensemble import GradientBoostingRegressor, RandomForestRegressor\n",
    "from sklearn.model_selection import GridSearchCV\n",
    "from sklearn.model_selection import train_test_split\n",
    "from sklearn.model_selection import cross_val_score\n",
    "\n",
    "#split the 'features' and 'target' data into trainign and testing set.\n",
    "X_train, X_test, y_train, y_test = train_test_split(features, target, test_size = 0.2,\n",
    "                                                    random_state = 17)\n",
    "\n",
    "\n",
    "learning_rate = 0.02\n",
    "max_depth = 6\n",
    "min_samples_leaf = 17\n",
    "max_features =  0.1\n",
    "n_estimators = 3000\n",
    "loss = 'huber'\n",
    "\n",
    "\n",
    "clf = GradientBoostingRegressor(loss=loss, n_estimators=n_estimators,learning_rate=learning_rate,\n",
    "                                max_features=max_features,max_depth=max_depth, min_samples_leaf=min_samples_leaf)\n",
    "\n",
    "clf_model2 = clf.fit(X_train, y_train)"
   ]
  },
  {
   "cell_type": "code",
   "execution_count": 19,
   "metadata": {
    "collapsed": true
   },
   "outputs": [],
   "source": [
    "predictions_model2 = clf_model2.predict(X_test)"
   ]
  },
  {
   "cell_type": "code",
   "execution_count": 21,
   "metadata": {
    "scrolled": true
   },
   "outputs": [
    {
     "name": "stdout",
     "output_type": "stream",
     "text": [
      "0.0986760932885\n"
     ]
    }
   ],
   "source": [
    "from sklearn.metrics import r2_score\n",
    "\n",
    "print r2_score(y_test, predictions_model2)"
   ]
  },
  {
   "cell_type": "code",
   "execution_count": 22,
   "metadata": {},
   "outputs": [
    {
     "name": "stdout",
     "output_type": "stream",
     "text": [
      "131476501.837\n"
     ]
    }
   ],
   "source": [
    "from sklearn.metrics import mean_squared_error\n",
    "\n",
    "print mean_squared_error(y_test, predictions_model2)"
   ]
  },
  {
   "cell_type": "markdown",
   "metadata": {},
   "source": [
    "### Model 2 R2 score : 0.0986760932885"
   ]
  },
  {
   "cell_type": "markdown",
   "metadata": {},
   "source": [
    "\n",
    "\n",
    ".\n",
    "\n",
    "\n",
    ".\n",
    "\n",
    "\n",
    "\n",
    "\n",
    ".\n",
    "\n",
    "\n",
    "\n",
    "\n",
    "# 5. Model 3 (removing outliers from non standardize input)"
   ]
  },
  {
   "cell_type": "code",
   "execution_count": 125,
   "metadata": {
    "collapsed": true
   },
   "outputs": [],
   "source": [
    "data_without_outlier = data_train[data_train.adview<600000]\n",
    "data_without_outlier = data_without_outlier[data_without_outlier.likes<200000]\n",
    "data_without_outlier = data_without_outlier[data_without_outlier.dislikes<20000]\n",
    "data_without_outlier = data_without_outlier[data_without_outlier.comment<40000]\n",
    "data_without_outlier = data_without_outlier[data_without_outlier.duration<30000]\n"
   ]
  },
  {
   "cell_type": "code",
   "execution_count": 127,
   "metadata": {
    "collapsed": true
   },
   "outputs": [],
   "source": [
    "data_without_outlier = data_without_outlier.reset_index(drop=True)"
   ]
  },
  {
   "cell_type": "code",
   "execution_count": 128,
   "metadata": {
    "collapsed": true
   },
   "outputs": [],
   "source": [
    "target = data_without_outlier['adview']\n",
    "features_raw = data_without_outlier.drop(['adview','vidid'], axis=1)\n",
    "features = pd.get_dummies(features_raw)"
   ]
  },
  {
   "cell_type": "code",
   "execution_count": 404,
   "metadata": {
    "collapsed": true
   },
   "outputs": [],
   "source": [
    "X_train, X_test, y_train, y_test = train_test_split(features, target, test_size = 0.2,\n",
    "                                                    random_state = 17)"
   ]
  },
  {
   "cell_type": "code",
   "execution_count": 406,
   "metadata": {
    "collapsed": true
   },
   "outputs": [],
   "source": [
    "clf_model3 = clf.fit(X_train, y_train)"
   ]
  },
  {
   "cell_type": "code",
   "execution_count": 409,
   "metadata": {},
   "outputs": [
    {
     "name": "stdout",
     "output_type": "stream",
     "text": [
      "0.0624198863012\n"
     ]
    }
   ],
   "source": [
    "predictions_model3 = clf_model3.predict(X_test)\n",
    "\n",
    "print r2_score(y_test, predictions_model3)"
   ]
  },
  {
   "cell_type": "markdown",
   "metadata": {},
   "source": [
    "### Model 3 R2 score : 0.0624198863012"
   ]
  },
  {
   "cell_type": "markdown",
   "metadata": {},
   "source": [
    "\n",
    "\n",
    ".\n",
    "\n",
    "\n",
    "\n",
    ".\n",
    "\n",
    "\n",
    "\n",
    ".\n",
    "\n",
    "\n",
    "\n",
    "# 6. Model 4 (using standardize features)"
   ]
  },
  {
   "cell_type": "markdown",
   "metadata": {},
   "source": [
    "However, there is no need to normalize/standardize the features for Gradient Boosting Regressor. But we measure that how the model performs when we give it standardize features."
   ]
  },
  {
   "cell_type": "code",
   "execution_count": 144,
   "metadata": {
    "collapsed": true
   },
   "outputs": [],
   "source": [
    "from sklearn.preprocessing import MinMaxScaler\n",
    "\n",
    "#standradize the features using min max scaler\n",
    "scaler = MinMaxScaler()\n",
    "numerical = ['adview','views','likes','dislikes','comment','published','duration']\n",
    "data_train[numerical] = scaler.fit_transform(data_train[numerical])"
   ]
  },
  {
   "cell_type": "code",
   "execution_count": 145,
   "metadata": {
    "collapsed": true
   },
   "outputs": [],
   "source": [
    "target = data_train['adview']\n",
    "features_raw = data_train.drop(['adview','vidid'], axis=1)\n",
    "features = pd.get_dummies(features_raw)"
   ]
  },
  {
   "cell_type": "code",
   "execution_count": 146,
   "metadata": {
    "collapsed": true
   },
   "outputs": [],
   "source": [
    "X_train, X_test, y_train, y_test = train_test_split(features, target, test_size = 0.2,\n",
    "                                                    random_state = 17)"
   ]
  },
  {
   "cell_type": "code",
   "execution_count": 399,
   "metadata": {
    "collapsed": true
   },
   "outputs": [],
   "source": [
    "clf_model4 = clf.fit(X_train, y_train)"
   ]
  },
  {
   "cell_type": "code",
   "execution_count": 341,
   "metadata": {
    "collapsed": true,
    "scrolled": true
   },
   "outputs": [],
   "source": [
    "predictions_model4 = clf_model4.predict(X_test)"
   ]
  },
  {
   "cell_type": "code",
   "execution_count": 343,
   "metadata": {},
   "outputs": [
    {
     "name": "stdout",
     "output_type": "stream",
     "text": [
      "-0.00617944471031\n"
     ]
    }
   ],
   "source": [
    "from sklearn.metrics import r2_score\n",
    "\n",
    "print r2_score(y_test, predictions_model4)"
   ]
  },
  {
   "cell_type": "markdown",
   "metadata": {},
   "source": [
    "### Model 4 R2 score : -0.00617944471031"
   ]
  },
  {
   "cell_type": "markdown",
   "metadata": {},
   "source": [
    "\n",
    ".\n",
    "\n",
    "\n",
    "\n",
    ".\n",
    "\n",
    "\n",
    "\n",
    ".\n",
    "\n",
    "\n",
    "# 7. Final model"
   ]
  },
  {
   "cell_type": "code",
   "execution_count": 13,
   "metadata": {
    "collapsed": true,
    "scrolled": true
   },
   "outputs": [],
   "source": [
    "target = data_train['adview']\n",
    "features_raw = data_train.drop(['adview','vidid'], axis=1)\n",
    "features = pd.get_dummies(features_raw)"
   ]
  },
  {
   "cell_type": "code",
   "execution_count": 14,
   "metadata": {
    "collapsed": true
   },
   "outputs": [],
   "source": [
    "features = features.drop(['category_A','category_B','category_C','category_D','category_E','category_F','category_G','category_H'], axis=1)"
   ]
  },
  {
   "cell_type": "code",
   "execution_count": 15,
   "metadata": {
    "collapsed": true
   },
   "outputs": [],
   "source": [
    "from sklearn.svm import SVR\n",
    "from sklearn import linear_model\n",
    "from sklearn.ensemble import GradientBoostingRegressor, RandomForestRegressor\n",
    "from sklearn.model_selection import GridSearchCV\n",
    "from sklearn.model_selection import train_test_split\n",
    "from sklearn.model_selection import cross_val_score\n",
    "\n",
    "#split the 'features' and 'target' data into trainign and testing set.\n",
    "X_train, X_test, y_train, y_test = train_test_split(features, target, test_size = 0.2,\n",
    "                                                    random_state = 17)\n",
    "\n",
    "\n",
    "learning_rate = 0.02\n",
    "max_depth = 6\n",
    "min_samples_leaf = 17\n",
    "max_features =  0.1\n",
    "n_estimators = 3000\n",
    "loss = 'huber'\n",
    "\n",
    "clf = GradientBoostingRegressor(loss=loss, n_estimators=n_estimators,learning_rate=learning_rate,\n",
    "                                max_features=max_features,max_depth=max_depth, min_samples_leaf=min_samples_leaf)\n",
    "\n",
    "clf_final = clf.fit(X_train, y_train)"
   ]
  },
  {
   "cell_type": "code",
   "execution_count": 16,
   "metadata": {
    "collapsed": true
   },
   "outputs": [],
   "source": [
    "predictions_final = clf_final.predict(X_test)"
   ]
  },
  {
   "cell_type": "code",
   "execution_count": 19,
   "metadata": {},
   "outputs": [
    {
     "name": "stdout",
     "output_type": "stream",
     "text": [
      "0.115149209808\n"
     ]
    }
   ],
   "source": [
    "from sklearn.metrics import r2_score\n",
    "\n",
    "print r2_score(y_test, predictions_final)"
   ]
  },
  {
   "cell_type": "markdown",
   "metadata": {},
   "source": [
    "## R2 score achieved by the final model: 0.115149209808"
   ]
  },
  {
   "cell_type": "markdown",
   "metadata": {},
   "source": [
    "\n",
    "\n",
    ".\n",
    "\n",
    "\n",
    "\n",
    "\n",
    ".\n",
    "\n",
    "\n",
    "\n",
    "\n",
    ".\n",
    "\n",
    "\n",
    "\n",
    "# 8. Making prediction"
   ]
  },
  {
   "cell_type": "markdown",
   "metadata": {},
   "source": [
    "## Loading testing data from ad_org_test.csv"
   ]
  },
  {
   "cell_type": "code",
   "execution_count": 44,
   "metadata": {
    "collapsed": true
   },
   "outputs": [],
   "source": [
    "data_test = pd.read_csv(\"data/mn/ad_org_test.csv\")"
   ]
  },
  {
   "cell_type": "markdown",
   "metadata": {},
   "source": [
    "#### Preprocessing"
   ]
  },
  {
   "cell_type": "code",
   "execution_count": 31,
   "metadata": {
    "collapsed": true
   },
   "outputs": [],
   "source": [
    "#removing the rows having value 'F' in likes, view, dislikes, comment, published and duration column\n",
    "data_test = data_test[data_test.likes!='F']\n",
    "data_test = data_test[data_test.views!='F']\n",
    "data_test = data_test[data_test.dislikes!='F']\n",
    "data_test = data_test[data_test.comment!='F']\n",
    "data_test = data_test[data_test.published!='F']\n",
    "data_test = data_test[data_test.duration!='F']"
   ]
  },
  {
   "cell_type": "code",
   "execution_count": 45,
   "metadata": {
    "collapsed": true
   },
   "outputs": [],
   "source": [
    "#removing the rows having value 'F' in likes, view, dislikes, comment, published and duration column\n",
    "data_test = remove_F(data_test)"
   ]
  },
  {
   "cell_type": "code",
   "execution_count": 47,
   "metadata": {
    "collapsed": true
   },
   "outputs": [],
   "source": [
    "data_test = convert_to_int(data_test)"
   ]
  },
  {
   "cell_type": "code",
   "execution_count": 49,
   "metadata": {
    "collapsed": true
   },
   "outputs": [],
   "source": [
    "durations_in_sec = [YTDurationToSeconds(duration_in_sec) for duration_in_sec in data_test[\"duration\"]]\n",
    "data_test.duration = durations_in_sec"
   ]
  },
  {
   "cell_type": "code",
   "execution_count": 50,
   "metadata": {
    "collapsed": true
   },
   "outputs": [],
   "source": [
    "days_ago_list = [published_days_ago(date_of_published, date_format) for date_of_published in data_test[\"published\"]]\n",
    "data_test.published = days_ago_list"
   ]
  },
  {
   "cell_type": "code",
   "execution_count": 92,
   "metadata": {
    "collapsed": true
   },
   "outputs": [],
   "source": [
    "vidids = data_test['vidid']\n",
    "features_raw = data_test.drop(['vidid'], axis=1)\n",
    "features = pd.get_dummies(features_raw)"
   ]
  },
  {
   "cell_type": "code",
   "execution_count": 93,
   "metadata": {
    "collapsed": true
   },
   "outputs": [],
   "source": [
    "features = features.drop(['category_A','category_B','category_C','category_D','category_E','category_F','category_G','category_H'], axis=1)"
   ]
  },
  {
   "cell_type": "code",
   "execution_count": 57,
   "metadata": {
    "collapsed": true
   },
   "outputs": [],
   "source": [
    "final_predictions = clf_final.predict(features)"
   ]
  },
  {
   "cell_type": "code",
   "execution_count": 94,
   "metadata": {
    "collapsed": true
   },
   "outputs": [],
   "source": [
    "final_predictions = [0 if i < 0 else int(i) for i in final_predictions]"
   ]
  },
  {
   "cell_type": "code",
   "execution_count": 95,
   "metadata": {
    "collapsed": true
   },
   "outputs": [],
   "source": [
    "final_predictions = pd.Series(final_predictions)\n",
    "\n",
    "result = {'vid_id': vidids,\n",
    "         'ad_view': final_predictions}"
   ]
  },
  {
   "cell_type": "code",
   "execution_count": 96,
   "metadata": {
    "collapsed": true
   },
   "outputs": [],
   "source": [
    "result_df = pd.DataFrame(result)"
   ]
  },
  {
   "cell_type": "code",
   "execution_count": 97,
   "metadata": {},
   "outputs": [
    {
     "data": {
      "text/html": [
       "<div>\n",
       "<style>\n",
       "    .dataframe thead tr:only-child th {\n",
       "        text-align: right;\n",
       "    }\n",
       "\n",
       "    .dataframe thead th {\n",
       "        text-align: left;\n",
       "    }\n",
       "\n",
       "    .dataframe tbody tr th {\n",
       "        vertical-align: top;\n",
       "    }\n",
       "</style>\n",
       "<table border=\"1\" class=\"dataframe\">\n",
       "  <thead>\n",
       "    <tr style=\"text-align: right;\">\n",
       "      <th></th>\n",
       "      <th>ad_view</th>\n",
       "      <th>vid_id</th>\n",
       "    </tr>\n",
       "  </thead>\n",
       "  <tbody>\n",
       "    <tr>\n",
       "      <th>0</th>\n",
       "      <td>1</td>\n",
       "      <td>VID_1054</td>\n",
       "    </tr>\n",
       "    <tr>\n",
       "      <th>1</th>\n",
       "      <td>10</td>\n",
       "      <td>VID_18629</td>\n",
       "    </tr>\n",
       "    <tr>\n",
       "      <th>2</th>\n",
       "      <td>4</td>\n",
       "      <td>VID_13967</td>\n",
       "    </tr>\n",
       "    <tr>\n",
       "      <th>3</th>\n",
       "      <td>28</td>\n",
       "      <td>VID_19442</td>\n",
       "    </tr>\n",
       "    <tr>\n",
       "      <th>4</th>\n",
       "      <td>12</td>\n",
       "      <td>VID_770</td>\n",
       "    </tr>\n",
       "  </tbody>\n",
       "</table>\n",
       "</div>"
      ],
      "text/plain": [
       "   ad_view     vid_id\n",
       "0        1   VID_1054\n",
       "1       10  VID_18629\n",
       "2        4  VID_13967\n",
       "3       28  VID_19442\n",
       "4       12    VID_770"
      ]
     },
     "metadata": {},
     "output_type": "display_data"
    }
   ],
   "source": [
    "display(result_df.head(n=5))"
   ]
  },
  {
   "cell_type": "code",
   "execution_count": 98,
   "metadata": {
    "collapsed": true
   },
   "outputs": [],
   "source": [
    "result_df = result_df[['vid_id', 'ad_view']]"
   ]
  },
  {
   "cell_type": "code",
   "execution_count": 99,
   "metadata": {},
   "outputs": [
    {
     "data": {
      "text/html": [
       "<div>\n",
       "<style>\n",
       "    .dataframe thead tr:only-child th {\n",
       "        text-align: right;\n",
       "    }\n",
       "\n",
       "    .dataframe thead th {\n",
       "        text-align: left;\n",
       "    }\n",
       "\n",
       "    .dataframe tbody tr th {\n",
       "        vertical-align: top;\n",
       "    }\n",
       "</style>\n",
       "<table border=\"1\" class=\"dataframe\">\n",
       "  <thead>\n",
       "    <tr style=\"text-align: right;\">\n",
       "      <th></th>\n",
       "      <th>vid_id</th>\n",
       "      <th>ad_view</th>\n",
       "    </tr>\n",
       "  </thead>\n",
       "  <tbody>\n",
       "    <tr>\n",
       "      <th>0</th>\n",
       "      <td>VID_1054</td>\n",
       "      <td>1</td>\n",
       "    </tr>\n",
       "    <tr>\n",
       "      <th>1</th>\n",
       "      <td>VID_18629</td>\n",
       "      <td>10</td>\n",
       "    </tr>\n",
       "    <tr>\n",
       "      <th>2</th>\n",
       "      <td>VID_13967</td>\n",
       "      <td>4</td>\n",
       "    </tr>\n",
       "    <tr>\n",
       "      <th>3</th>\n",
       "      <td>VID_19442</td>\n",
       "      <td>28</td>\n",
       "    </tr>\n",
       "    <tr>\n",
       "      <th>4</th>\n",
       "      <td>VID_770</td>\n",
       "      <td>12</td>\n",
       "    </tr>\n",
       "  </tbody>\n",
       "</table>\n",
       "</div>"
      ],
      "text/plain": [
       "      vid_id  ad_view\n",
       "0   VID_1054        1\n",
       "1  VID_18629       10\n",
       "2  VID_13967        4\n",
       "3  VID_19442       28\n",
       "4    VID_770       12"
      ]
     },
     "metadata": {},
     "output_type": "display_data"
    }
   ],
   "source": [
    "display(result_df.head(n=5))"
   ]
  },
  {
   "cell_type": "code",
   "execution_count": 101,
   "metadata": {
    "collapsed": true
   },
   "outputs": [],
   "source": [
    "result_df.to_csv('result.csv')"
   ]
  },
  {
   "cell_type": "code",
   "execution_count": 102,
   "metadata": {
    "collapsed": true
   },
   "outputs": [],
   "source": [
    "result_df.to_csv('result.txt')"
   ]
  },
  {
   "cell_type": "markdown",
   "metadata": {},
   "source": [
    "# Conclusion"
   ]
  },
  {
   "cell_type": "markdown",
   "metadata": {},
   "source": [
    "Initially, I thought that the problem was pretty easy. But, it comes out to be a challenging one for me. I researched and try to implement various algorithms like Linear Regression, Lasso, SGDRegressor and Gradient Boosting Regressor out of which GradientBoosting Regressor perform comparatively better. After cross-validation and careful parameter tuning my model was only able to achieve a R2_score of 0.115149209808"
   ]
  }
 ],
 "metadata": {
  "kernelspec": {
   "display_name": "Python 2",
   "language": "python",
   "name": "python2"
  },
  "language_info": {
   "codemirror_mode": {
    "name": "ipython",
    "version": 2
   },
   "file_extension": ".py",
   "mimetype": "text/x-python",
   "name": "python",
   "nbconvert_exporter": "python",
   "pygments_lexer": "ipython2",
   "version": "2.7.13"
  }
 },
 "nbformat": 4,
 "nbformat_minor": 2
}
